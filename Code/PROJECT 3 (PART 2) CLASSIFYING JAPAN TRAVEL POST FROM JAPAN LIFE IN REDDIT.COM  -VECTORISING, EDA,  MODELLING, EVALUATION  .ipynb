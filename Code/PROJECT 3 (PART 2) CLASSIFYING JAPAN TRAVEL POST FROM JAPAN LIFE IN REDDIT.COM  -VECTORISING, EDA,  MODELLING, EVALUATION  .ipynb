{
 "cells": [
  {
   "cell_type": "markdown",
   "metadata": {},
   "source": [
    "# PROJECT 3 (PART 2)\n",
    "### CLASSIFYING JAPAN TRAVEL POST FROM JAPAN LIFE IN  REDDIT.COM\n",
    "### -VECTORISING, EDA,  MODELLING, EVALUATION  "
   ]
  },
  {
   "cell_type": "code",
   "execution_count": 1,
   "metadata": {},
   "outputs": [],
   "source": [
    "# importing the libraries\n",
    "import pandas as pd\n",
    "import numpy as np\n",
    "import re\n",
    "import matplotlib.pyplot as plt\n",
    "import seaborn as sns\n",
    "from sklearn.feature_extraction import stop_words\n",
    "from sklearn.feature_extraction.text import CountVectorizer, TfidfVectorizer\n",
    "from nltk.corpus import stopwords\n",
    "from sklearn.model_selection import train_test_split,GridSearchCV\n",
    "from sklearn.linear_model import LogisticRegression\n",
    "from sklearn.metrics import classification_report, confusion_matrix, accuracy_score\n",
    "from sklearn.naive_bayes import MultinomialNB\n",
    "from sklearn.pipeline import make_pipeline\n",
    "from nltk.stem import WordNetLemmatizer\n",
    "from nltk.tokenize import RegexpTokenizer\n",
    "from nltk.stem.porter import PorterStemmer\n",
    "from wordcloud import WordCloud, STOPWORDS\n",
    "from matplotlib_venn_wordcloud import venn2_wordcloud\n",
    "\n",
    "%matplotlib inline"
   ]
  },
  {
   "cell_type": "code",
   "execution_count": 2,
   "metadata": {},
   "outputs": [
    {
     "data": {
      "text/html": [
       "<div>\n",
       "<style scoped>\n",
       "    .dataframe tbody tr th:only-of-type {\n",
       "        vertical-align: middle;\n",
       "    }\n",
       "\n",
       "    .dataframe tbody tr th {\n",
       "        vertical-align: top;\n",
       "    }\n",
       "\n",
       "    .dataframe thead th {\n",
       "        text-align: right;\n",
       "    }\n",
       "</style>\n",
       "<table border=\"1\" class=\"dataframe\">\n",
       "  <thead>\n",
       "    <tr style=\"text-align: right;\">\n",
       "      <th></th>\n",
       "      <th>content</th>\n",
       "      <th>subreddit</th>\n",
       "      <th>clean_round1</th>\n",
       "      <th>clean_lemma</th>\n",
       "      <th>clean_stem</th>\n",
       "      <th>clean_lemma_stem</th>\n",
       "    </tr>\n",
       "  </thead>\n",
       "  <tbody>\n",
       "    <tr>\n",
       "      <th>0</th>\n",
       "      <td>Me and my travel-buddy really want to catch a ...</td>\n",
       "      <td>0</td>\n",
       "      <td>[travel-buddy, really, want, catch, mma-fight,...</td>\n",
       "      <td>[travel-buddy, really, want, catch, mma-fight,...</td>\n",
       "      <td>[travel-buddi, realli, want, catch, mma-fight,...</td>\n",
       "      <td>[travel-buddi, realli, want, catch, mma-fight,...</td>\n",
       "    </tr>\n",
       "    <tr>\n",
       "      <th>1</th>\n",
       "      <td>Ishigaki/Okinawa Just wondering where the best...</td>\n",
       "      <td>0</td>\n",
       "      <td>[ishigaki, okinawa, wondering, best, places, s...</td>\n",
       "      <td>[ishigaki, okinawa, wondering, best, place, sn...</td>\n",
       "      <td>[ishigaki, okinawa, wonder, best, place, snork...</td>\n",
       "      <td>[ishigaki, okinawa, wonder, best, place, snork...</td>\n",
       "    </tr>\n",
       "    <tr>\n",
       "      <th>2</th>\n",
       "      <td>PSA: Tobu-Nikko service resumption Anyone else...</td>\n",
       "      <td>0</td>\n",
       "      <td>[psa, tobu-nikko, service, resumption, anyone,...</td>\n",
       "      <td>[psa, tobu-nikko, service, resumption, anyone,...</td>\n",
       "      <td>[psa, tobu-nikko, servic, resumpt, anyon, els,...</td>\n",
       "      <td>[psa, tobu-nikko, servic, resumpt, anyon, els,...</td>\n",
       "    </tr>\n",
       "    <tr>\n",
       "      <th>3</th>\n",
       "      <td>Did I Book the Osaka Cup Ramen Museum Correctl...</td>\n",
       "      <td>0</td>\n",
       "      <td>[book, osaka, cup, ramen, museum, correctly, m...</td>\n",
       "      <td>[book, osaka, cup, ramen, museum, correctly, m...</td>\n",
       "      <td>[book, osaka, cup, ramen, museum, correctli, m...</td>\n",
       "      <td>[book, osaka, cup, ramen, museum, correctli, m...</td>\n",
       "    </tr>\n",
       "    <tr>\n",
       "      <th>4</th>\n",
       "      <td>Tokyo motorcycle route Thinking of renting a m...</td>\n",
       "      <td>0</td>\n",
       "      <td>[tokyo, motorcycle, route, thinking, renting, ...</td>\n",
       "      <td>[tokyo, motorcycle, route, thinking, renting, ...</td>\n",
       "      <td>[tokyo, motorcycl, rout, think, rent, motor, c...</td>\n",
       "      <td>[tokyo, motorcycl, rout, think, rent, motor, c...</td>\n",
       "    </tr>\n",
       "  </tbody>\n",
       "</table>\n",
       "</div>"
      ],
      "text/plain": [
       "                                             content  subreddit  \\\n",
       "0  Me and my travel-buddy really want to catch a ...          0   \n",
       "1  Ishigaki/Okinawa Just wondering where the best...          0   \n",
       "2  PSA: Tobu-Nikko service resumption Anyone else...          0   \n",
       "3  Did I Book the Osaka Cup Ramen Museum Correctl...          0   \n",
       "4  Tokyo motorcycle route Thinking of renting a m...          0   \n",
       "\n",
       "                                        clean_round1  \\\n",
       "0  [travel-buddy, really, want, catch, mma-fight,...   \n",
       "1  [ishigaki, okinawa, wondering, best, places, s...   \n",
       "2  [psa, tobu-nikko, service, resumption, anyone,...   \n",
       "3  [book, osaka, cup, ramen, museum, correctly, m...   \n",
       "4  [tokyo, motorcycle, route, thinking, renting, ...   \n",
       "\n",
       "                                         clean_lemma  \\\n",
       "0  [travel-buddy, really, want, catch, mma-fight,...   \n",
       "1  [ishigaki, okinawa, wondering, best, place, sn...   \n",
       "2  [psa, tobu-nikko, service, resumption, anyone,...   \n",
       "3  [book, osaka, cup, ramen, museum, correctly, m...   \n",
       "4  [tokyo, motorcycle, route, thinking, renting, ...   \n",
       "\n",
       "                                          clean_stem  \\\n",
       "0  [travel-buddi, realli, want, catch, mma-fight,...   \n",
       "1  [ishigaki, okinawa, wonder, best, place, snork...   \n",
       "2  [psa, tobu-nikko, servic, resumpt, anyon, els,...   \n",
       "3  [book, osaka, cup, ramen, museum, correctli, m...   \n",
       "4  [tokyo, motorcycl, rout, think, rent, motor, c...   \n",
       "\n",
       "                                    clean_lemma_stem  \n",
       "0  [travel-buddi, realli, want, catch, mma-fight,...  \n",
       "1  [ishigaki, okinawa, wonder, best, place, snork...  \n",
       "2  [psa, tobu-nikko, servic, resumpt, anyon, els,...  \n",
       "3  [book, osaka, cup, ramen, museum, correctli, m...  \n",
       "4  [tokyo, motorcycl, rout, think, rent, motor, c...  "
      ]
     },
     "execution_count": 2,
     "metadata": {},
     "output_type": "execute_result"
    }
   ],
   "source": [
    "# reading the file that is pickled at project 3 preprocessing as a pandas dataframe\n",
    "japan_clean_df = pd.read_pickle(\"../datasets/japan_cleaned_data.pkl\")\n",
    "japan_clean_df.head(5)"
   ]
  },
  {
   "cell_type": "code",
   "execution_count": 3,
   "metadata": {},
   "outputs": [
    {
     "name": "stdout",
     "output_type": "stream",
     "text": [
      "unique wordcount\n",
      "cleanround1 16404 clean_lemma 14881 clean_stem 12381 clean_lemma_stem 12358\n"
     ]
    }
   ],
   "source": [
    "# counting the unique words got after 1st round cleaning, lemmatizing, stemming, lemmatize stemming\n",
    "l1=[]\n",
    "l2=[]\n",
    "l3=[]\n",
    "l4=[]\n",
    "for i in japan_clean_df.index:\n",
    "    l1.extend(japan_clean_df['clean_round1'][i])\n",
    "    l2.extend(japan_clean_df['clean_lemma'][i])\n",
    "    l3.extend(japan_clean_df['clean_stem'][i])\n",
    "    l4.extend(japan_clean_df['clean_lemma_stem'][i])\n",
    "print('unique wordcount')    \n",
    "print('cleanround1',len(set(l1)),'clean_lemma',len(set(l2)),'clean_stem',len(set(l3)),'clean_lemma_stem',len(set(l4)),)   \n"
   ]
  },
  {
   "cell_type": "markdown",
   "metadata": {},
   "source": [
    "### I have chosen column cleaned by both lemma and stem to be the corpus because the number of words are lesser compared to all other methods. Eventhough, some of the spelling are wrong they don't affect the classification. "
   ]
  },
  {
   "cell_type": "code",
   "execution_count": 4,
   "metadata": {},
   "outputs": [
    {
     "data": {
      "text/html": [
       "<div>\n",
       "<style scoped>\n",
       "    .dataframe tbody tr th:only-of-type {\n",
       "        vertical-align: middle;\n",
       "    }\n",
       "\n",
       "    .dataframe tbody tr th {\n",
       "        vertical-align: top;\n",
       "    }\n",
       "\n",
       "    .dataframe thead th {\n",
       "        text-align: right;\n",
       "    }\n",
       "</style>\n",
       "<table border=\"1\" class=\"dataframe\">\n",
       "  <thead>\n",
       "    <tr style=\"text-align: right;\">\n",
       "      <th></th>\n",
       "      <th>clean_lemma_stem</th>\n",
       "      <th>subreddit</th>\n",
       "    </tr>\n",
       "  </thead>\n",
       "  <tbody>\n",
       "    <tr>\n",
       "      <th>0</th>\n",
       "      <td>[travel-buddi, realli, want, catch, mma-fight,...</td>\n",
       "      <td>0</td>\n",
       "    </tr>\n",
       "    <tr>\n",
       "      <th>1</th>\n",
       "      <td>[ishigaki, okinawa, wonder, best, place, snork...</td>\n",
       "      <td>0</td>\n",
       "    </tr>\n",
       "    <tr>\n",
       "      <th>2</th>\n",
       "      <td>[psa, tobu-nikko, servic, resumpt, anyon, els,...</td>\n",
       "      <td>0</td>\n",
       "    </tr>\n",
       "    <tr>\n",
       "      <th>3</th>\n",
       "      <td>[book, osaka, cup, ramen, museum, correctli, m...</td>\n",
       "      <td>0</td>\n",
       "    </tr>\n",
       "    <tr>\n",
       "      <th>4</th>\n",
       "      <td>[tokyo, motorcycl, rout, think, rent, motor, c...</td>\n",
       "      <td>0</td>\n",
       "    </tr>\n",
       "  </tbody>\n",
       "</table>\n",
       "</div>"
      ],
      "text/plain": [
       "                                    clean_lemma_stem  subreddit\n",
       "0  [travel-buddi, realli, want, catch, mma-fight,...          0\n",
       "1  [ishigaki, okinawa, wonder, best, place, snork...          0\n",
       "2  [psa, tobu-nikko, servic, resumpt, anyon, els,...          0\n",
       "3  [book, osaka, cup, ramen, museum, correctli, m...          0\n",
       "4  [tokyo, motorcycl, rout, think, rent, motor, c...          0"
      ]
     },
     "execution_count": 4,
     "metadata": {},
     "output_type": "execute_result"
    }
   ],
   "source": [
    "# Choosing column clean_lemma_stem which contains the corpus and column subreddit which \n",
    "# have the target for furthe analysis.\n",
    "japan_clean_df=japan_clean_df.loc[:,['clean_lemma_stem','subreddit']]\n",
    "japan_clean_df.head()"
   ]
  },
  {
   "cell_type": "code",
   "execution_count": 5,
   "metadata": {},
   "outputs": [
    {
     "data": {
      "text/html": [
       "<div>\n",
       "<style scoped>\n",
       "    .dataframe tbody tr th:only-of-type {\n",
       "        vertical-align: middle;\n",
       "    }\n",
       "\n",
       "    .dataframe tbody tr th {\n",
       "        vertical-align: top;\n",
       "    }\n",
       "\n",
       "    .dataframe thead th {\n",
       "        text-align: right;\n",
       "    }\n",
       "</style>\n",
       "<table border=\"1\" class=\"dataframe\">\n",
       "  <thead>\n",
       "    <tr style=\"text-align: right;\">\n",
       "      <th></th>\n",
       "      <th>clean_lemma_stem</th>\n",
       "      <th>subreddit</th>\n",
       "    </tr>\n",
       "  </thead>\n",
       "  <tbody>\n",
       "    <tr>\n",
       "      <th>0</th>\n",
       "      <td>travel-buddi realli want catch mma-fight japan...</td>\n",
       "      <td>0</td>\n",
       "    </tr>\n",
       "    <tr>\n",
       "      <th>1</th>\n",
       "      <td>ishigaki okinawa wonder best place snorkel ish...</td>\n",
       "      <td>0</td>\n",
       "    </tr>\n",
       "    <tr>\n",
       "      <th>2</th>\n",
       "      <td>psa tobu-nikko servic resumpt anyon els look g...</td>\n",
       "      <td>0</td>\n",
       "    </tr>\n",
       "    <tr>\n",
       "      <th>3</th>\n",
       "      <td>book osaka cup ramen museum correctli made res...</td>\n",
       "      <td>0</td>\n",
       "    </tr>\n",
       "    <tr>\n",
       "      <th>4</th>\n",
       "      <td>tokyo motorcycl rout think rent motor cycl sco...</td>\n",
       "      <td>0</td>\n",
       "    </tr>\n",
       "  </tbody>\n",
       "</table>\n",
       "</div>"
      ],
      "text/plain": [
       "                                    clean_lemma_stem  subreddit\n",
       "0  travel-buddi realli want catch mma-fight japan...          0\n",
       "1  ishigaki okinawa wonder best place snorkel ish...          0\n",
       "2  psa tobu-nikko servic resumpt anyon els look g...          0\n",
       "3  book osaka cup ramen museum correctli made res...          0\n",
       "4  tokyo motorcycl rout think rent motor cycl sco...          0"
      ]
     },
     "execution_count": 5,
     "metadata": {},
     "output_type": "execute_result"
    }
   ],
   "source": [
    "# converting the bag of word list into a string, so that we can feed them to count vectoriser\n",
    "japan_clean_df['clean_lemma_stem']=japan_clean_df['clean_lemma_stem'].apply(lambda x:' '.join(x))\n",
    "japan_clean_df.head()"
   ]
  },
  {
   "cell_type": "code",
   "execution_count": 6,
   "metadata": {},
   "outputs": [],
   "source": [
    "# getting the index of the dataframe to supply the index when we have to reconstuct data frame after\n",
    "# count vectorisation.So that our features and target will have same index. \n",
    "indices = []\n",
    "for row in japan_clean_df.index: \n",
    "    indices.append(row)\n",
    "  "
   ]
  },
  {
   "cell_type": "code",
   "execution_count": 7,
   "metadata": {},
   "outputs": [
    {
     "data": {
      "text/plain": [
       "900"
      ]
     },
     "execution_count": 7,
     "metadata": {},
     "output_type": "execute_result"
    }
   ],
   "source": [
    "# Lets use the stop_words argument to remove words like \"and, the, a\"\n",
    "cvec = CountVectorizer(stop_words='english',max_features=900)\n",
    "\n",
    "# Fit our vectorizer using our train data\n",
    "cvec.fit(japan_clean_df['clean_lemma_stem'])\n",
    "\n",
    "# and check out the length of the vectorized data after\n",
    "len(cvec.get_feature_names())"
   ]
  },
  {
   "cell_type": "markdown",
   "metadata": {},
   "source": [
    "##### Manually changing the max_features in the CountVectorizer() gives a different result. The accuracy is better around 1% for 900 max features compared to 800 or 1000 max features."
   ]
  },
  {
   "cell_type": "code",
   "execution_count": 8,
   "metadata": {
    "scrolled": false
   },
   "outputs": [
    {
     "data": {
      "text/html": [
       "<div>\n",
       "<style scoped>\n",
       "    .dataframe tbody tr th:only-of-type {\n",
       "        vertical-align: middle;\n",
       "    }\n",
       "\n",
       "    .dataframe tbody tr th {\n",
       "        vertical-align: top;\n",
       "    }\n",
       "\n",
       "    .dataframe thead th {\n",
       "        text-align: right;\n",
       "    }\n",
       "</style>\n",
       "<table border=\"1\" class=\"dataframe\">\n",
       "  <thead>\n",
       "    <tr style=\"text-align: right;\">\n",
       "      <th></th>\n",
       "      <th>abl</th>\n",
       "      <th>absolut</th>\n",
       "      <th>accept</th>\n",
       "      <th>access</th>\n",
       "      <th>accommod</th>\n",
       "      <th>account</th>\n",
       "      <th>activ</th>\n",
       "      <th>actual</th>\n",
       "      <th>ad</th>\n",
       "      <th>add</th>\n",
       "      <th>...</th>\n",
       "      <th>wrong</th>\n",
       "      <th>www</th>\n",
       "      <th>yakushima</th>\n",
       "      <th>yasaka</th>\n",
       "      <th>ye</th>\n",
       "      <th>year</th>\n",
       "      <th>yen</th>\n",
       "      <th>yokocho</th>\n",
       "      <th>yokohama</th>\n",
       "      <th>yoyogi</th>\n",
       "    </tr>\n",
       "  </thead>\n",
       "  <tbody>\n",
       "    <tr>\n",
       "      <th>0</th>\n",
       "      <td>0</td>\n",
       "      <td>0</td>\n",
       "      <td>0</td>\n",
       "      <td>0</td>\n",
       "      <td>0</td>\n",
       "      <td>0</td>\n",
       "      <td>0</td>\n",
       "      <td>0</td>\n",
       "      <td>0</td>\n",
       "      <td>0</td>\n",
       "      <td>...</td>\n",
       "      <td>0</td>\n",
       "      <td>0</td>\n",
       "      <td>0</td>\n",
       "      <td>0</td>\n",
       "      <td>0</td>\n",
       "      <td>0</td>\n",
       "      <td>0</td>\n",
       "      <td>0</td>\n",
       "      <td>0</td>\n",
       "      <td>0</td>\n",
       "    </tr>\n",
       "    <tr>\n",
       "      <th>1</th>\n",
       "      <td>0</td>\n",
       "      <td>0</td>\n",
       "      <td>0</td>\n",
       "      <td>0</td>\n",
       "      <td>0</td>\n",
       "      <td>0</td>\n",
       "      <td>0</td>\n",
       "      <td>0</td>\n",
       "      <td>0</td>\n",
       "      <td>0</td>\n",
       "      <td>...</td>\n",
       "      <td>0</td>\n",
       "      <td>0</td>\n",
       "      <td>0</td>\n",
       "      <td>0</td>\n",
       "      <td>0</td>\n",
       "      <td>0</td>\n",
       "      <td>0</td>\n",
       "      <td>0</td>\n",
       "      <td>0</td>\n",
       "      <td>0</td>\n",
       "    </tr>\n",
       "    <tr>\n",
       "      <th>2</th>\n",
       "      <td>0</td>\n",
       "      <td>0</td>\n",
       "      <td>0</td>\n",
       "      <td>0</td>\n",
       "      <td>0</td>\n",
       "      <td>0</td>\n",
       "      <td>0</td>\n",
       "      <td>0</td>\n",
       "      <td>0</td>\n",
       "      <td>0</td>\n",
       "      <td>...</td>\n",
       "      <td>0</td>\n",
       "      <td>4</td>\n",
       "      <td>0</td>\n",
       "      <td>0</td>\n",
       "      <td>0</td>\n",
       "      <td>0</td>\n",
       "      <td>0</td>\n",
       "      <td>0</td>\n",
       "      <td>0</td>\n",
       "      <td>0</td>\n",
       "    </tr>\n",
       "    <tr>\n",
       "      <th>3</th>\n",
       "      <td>0</td>\n",
       "      <td>0</td>\n",
       "      <td>0</td>\n",
       "      <td>0</td>\n",
       "      <td>0</td>\n",
       "      <td>0</td>\n",
       "      <td>0</td>\n",
       "      <td>0</td>\n",
       "      <td>0</td>\n",
       "      <td>0</td>\n",
       "      <td>...</td>\n",
       "      <td>0</td>\n",
       "      <td>0</td>\n",
       "      <td>0</td>\n",
       "      <td>0</td>\n",
       "      <td>0</td>\n",
       "      <td>0</td>\n",
       "      <td>0</td>\n",
       "      <td>0</td>\n",
       "      <td>0</td>\n",
       "      <td>0</td>\n",
       "    </tr>\n",
       "    <tr>\n",
       "      <th>4</th>\n",
       "      <td>0</td>\n",
       "      <td>0</td>\n",
       "      <td>0</td>\n",
       "      <td>0</td>\n",
       "      <td>0</td>\n",
       "      <td>0</td>\n",
       "      <td>0</td>\n",
       "      <td>0</td>\n",
       "      <td>0</td>\n",
       "      <td>0</td>\n",
       "      <td>...</td>\n",
       "      <td>0</td>\n",
       "      <td>0</td>\n",
       "      <td>0</td>\n",
       "      <td>0</td>\n",
       "      <td>0</td>\n",
       "      <td>0</td>\n",
       "      <td>0</td>\n",
       "      <td>0</td>\n",
       "      <td>0</td>\n",
       "      <td>0</td>\n",
       "    </tr>\n",
       "  </tbody>\n",
       "</table>\n",
       "<p>5 rows × 900 columns</p>\n",
       "</div>"
      ],
      "text/plain": [
       "   abl  absolut  accept  access  accommod  account  activ  actual  ad  add  \\\n",
       "0    0        0       0       0         0        0      0       0   0    0   \n",
       "1    0        0       0       0         0        0      0       0   0    0   \n",
       "2    0        0       0       0         0        0      0       0   0    0   \n",
       "3    0        0       0       0         0        0      0       0   0    0   \n",
       "4    0        0       0       0         0        0      0       0   0    0   \n",
       "\n",
       "   ...  wrong  www  yakushima  yasaka  ye  year  yen  yokocho  yokohama  \\\n",
       "0  ...      0    0          0       0   0     0    0        0         0   \n",
       "1  ...      0    0          0       0   0     0    0        0         0   \n",
       "2  ...      0    4          0       0   0     0    0        0         0   \n",
       "3  ...      0    0          0       0   0     0    0        0         0   \n",
       "4  ...      0    0          0       0   0     0    0        0         0   \n",
       "\n",
       "   yoyogi  \n",
       "0       0  \n",
       "1       0  \n",
       "2       0  \n",
       "3       0  \n",
       "4       0  \n",
       "\n",
       "[5 rows x 900 columns]"
      ]
     },
     "execution_count": 8,
     "metadata": {},
     "output_type": "execute_result"
    }
   ],
   "source": [
    "# Transforming our x data using our fit cvec.\n",
    "# And converting the result to a DataFrame.\n",
    "X_cvec = pd.DataFrame(cvec.transform(japan_clean_df['clean_lemma_stem']).todense(),\n",
    "                       columns=cvec.get_feature_names(),index = indices)\n",
    "X_cvec.head()\n"
   ]
  },
  {
   "cell_type": "markdown",
   "metadata": {},
   "source": [
    "### Our Document term matrix is ready"
   ]
  },
  {
   "cell_type": "code",
   "execution_count": 9,
   "metadata": {},
   "outputs": [],
   "source": [
    "# splitting the data into training and test set.\n",
    "X_train, X_test, y_train, y_test = train_test_split(X_cvec, japan_clean_df['subreddit'], test_size=0.2,shuffle=True,random_state=48)"
   ]
  },
  {
   "cell_type": "code",
   "execution_count": 10,
   "metadata": {
    "scrolled": true
   },
   "outputs": [
    {
     "name": "stdout",
     "output_type": "stream",
     "text": [
      "900\n"
     ]
    },
    {
     "data": {
      "text/plain": [
       "day          2803\n",
       "tokyo        2057\n",
       "japan        1249\n",
       "time         1152\n",
       "kyoto        1078\n",
       "osaka        1035\n",
       "trip         1000\n",
       "like          960\n",
       "want          702\n",
       "amp           693\n",
       "know          669\n",
       "plan          660\n",
       "look          650\n",
       "th            643\n",
       "check         642\n",
       "travel        615\n",
       "thank         612\n",
       "train         608\n",
       "night         572\n",
       "hotel         563\n",
       "place         562\n",
       "visit         555\n",
       "stay          545\n",
       "area          540\n",
       "tri           538\n",
       "anyon         529\n",
       "http          520\n",
       "pm            503\n",
       "use           492\n",
       "itinerari     490\n",
       "dtype: int64"
      ]
     },
     "execution_count": 10,
     "metadata": {},
     "output_type": "execute_result"
    }
   ],
   "source": [
    "# top 30 words used in both subreditt\n",
    "word_counts = X_train.sum(axis=0)\n",
    "print(len(word_counts))\n",
    "word_counts.sort_values(ascending = False).head(30)"
   ]
  },
  {
   "cell_type": "code",
   "execution_count": 11,
   "metadata": {},
   "outputs": [],
   "source": [
    "# defining the name of the subreddit to be used while specifying the top words\n",
    "target_name=['japan_travel','japan_life']"
   ]
  },
  {
   "cell_type": "code",
   "execution_count": 12,
   "metadata": {},
   "outputs": [
    {
     "name": "stdout",
     "output_type": "stream",
     "text": [
      "japan_travel most common words\n",
      "day          2622\n",
      "tokyo        1813\n",
      "kyoto        1060\n",
      "osaka        1010\n",
      "trip          973\n",
      "time          853\n",
      "japan         795\n",
      "travel        581\n",
      "like          581\n",
      "th            574\n",
      "check         571\n",
      "amp           571\n",
      "plan          566\n",
      "hotel         558\n",
      "train         551\n",
      "night         550\n",
      "visit         518\n",
      "pm            492\n",
      "itinerari     488\n",
      "stay          485\n",
      "want          474\n",
      "area          470\n",
      "station       445\n",
      "park          444\n",
      "place         440\n",
      "look          432\n",
      "explor        409\n",
      "templ         404\n",
      "thank         393\n",
      "museum        368\n",
      "shop          359\n",
      "tri           355\n",
      "walk          354\n",
      "hakon         352\n",
      "shrine        349\n",
      "morn          347\n",
      "octob         345\n",
      "know          344\n",
      "http          337\n",
      "pa            337\n",
      "shinjuku      328\n",
      "food          323\n",
      "oct           317\n",
      "recommend     317\n",
      "thing         303\n",
      "nov           300\n",
      "arriv         299\n",
      "realli        296\n",
      "nara          283\n",
      "jr            275\n",
      "dtype: int64\n",
      "japan_life most common words\n",
      "japan       454\n",
      "like        379\n",
      "work        326\n",
      "know        325\n",
      "year        312\n",
      "japanes     309\n",
      "time        299\n",
      "anyon       295\n",
      "use         266\n",
      "tokyo       244\n",
      "need        241\n",
      "month       237\n",
      "want        228\n",
      "thank       219\n",
      "look        218\n",
      "pay         210\n",
      "compani     197\n",
      "ask         187\n",
      "tri         183\n",
      "http        183\n",
      "question    181\n",
      "day         181\n",
      "live        180\n",
      "help        180\n",
      "visa        173\n",
      "good        169\n",
      "thing       163\n",
      "realli      158\n",
      "card        158\n",
      "week        155\n",
      "new         154\n",
      "make        153\n",
      "job         150\n",
      "someth      148\n",
      "peopl       148\n",
      "think       147\n",
      "thread      145\n",
      "say         138\n",
      "got         136\n",
      "english     136\n",
      "sinc        134\n",
      "line        133\n",
      "post        132\n",
      "anyth       131\n",
      "experi      128\n",
      "place       122\n",
      "amp         122\n",
      "start       120\n",
      "home        120\n",
      "leav        116\n",
      "dtype: int64\n"
     ]
    }
   ],
   "source": [
    "# top 10 words used in individual subreddit is to be found\n",
    "common_words_japantravel = []\n",
    "common_words_japanlife = []\n",
    "for i in range(2):\n",
    "    word_count = X_train[y_train==i].sum(axis=0)\n",
    "    print (target_name[i], \"most common words\")\n",
    "    if i == 0:\n",
    "        cw_japantravel = word_count.sort_values(ascending = False).head(50)\n",
    "        common_words_japantravel.extend(cw_japantravel.index)\n",
    "        print(cw_japantravel[0:50])\n",
    "    else:\n",
    "        cw_japanlife = word_count.sort_values(ascending = False).head(50)\n",
    "        common_words_japanlife.extend(cw_japanlife.index)   \n",
    "        print(cw_japanlife[0:50])"
   ]
  },
  {
   "cell_type": "markdown",
   "metadata": {},
   "source": [
    "### From the frequencies of words we could see people tend to share more about japan ### travel compared to japan life. The data from the subreddits are quiet imbalanced.\n",
    "### -Top Words used in japan travel posts:\n",
    "##### day, tokyo, kyoto, osaka, trip, time, japan, travel, like and thing\n",
    "### -Top Words used in japan life posts:\n",
    "##### japan, like, work, know, year, japanese, time, anyone, use and tokyo\n",
    "Some of the words are listed in both the subreddit"
   ]
  },
  {
   "cell_type": "code",
   "execution_count": 13,
   "metadata": {},
   "outputs": [],
   "source": [
    "# dataframe built for the top words in individual subreddit\n",
    "japan_topwords = pd.DataFrame(common_words_japantravel,columns=['common_words_japantravel'])\n",
    "japan_topwords['common_words_japanlife']=common_words_japanlife\n",
    "\n"
   ]
  },
  {
   "cell_type": "code",
   "execution_count": 14,
   "metadata": {},
   "outputs": [
    {
     "data": {
      "image/png": "[encoded data removed]",
      "text/plain": [
       "<Figure size 432x288 with 1 Axes>"
      ]
     },
     "metadata": {
      "needs_background": "light"
     },
     "output_type": "display_data"
    }
   ],
   "source": [
    "# word cloud is generated for top words used in japan travel subreddit \n",
    "\n",
    "wordcloud1 = WordCloud(width = 4000, height = 4000,  colormap = \"Dark2\" \n",
    "                ).generate(str(japan_topwords['common_words_japantravel']))\n",
    "\n",
    "plt.title(\"Top Words used in JapanTravel Subreddit\")\n",
    "plt.imshow(wordcloud1)\n",
    "plt.axis(\"off\")\n",
    "plt.savefig('../image/JapanTravelTopWords')\n"
   ]
  },
  {
   "cell_type": "code",
   "execution_count": 15,
   "metadata": {},
   "outputs": [
    {
     "data": {
      "image/png": "[encoded data removed]",
      "text/plain": [
       "<Figure size 432x288 with 1 Axes>"
      ]
     },
     "metadata": {
      "needs_background": "light"
     },
     "output_type": "display_data"
    }
   ],
   "source": [
    "# word cloud is generated for top words used in japan life subreddit \n",
    "wordcloud2 = WordCloud(width = 4000, height = 4000,  colormap = \"Dark2\" \n",
    "                ).generate(str(japan_topwords['common_words_japanlife']))\n",
    "plt.imshow(wordcloud2)\n",
    "plt.title(\"Top Words used in Japanlife Subreddit\")\n",
    "plt.axis(\"off\")\n",
    "plt.savefig('../image/JapanLifeTopWords')\n",
    "plt.show()"
   ]
  },
  {
   "cell_type": "code",
   "execution_count": 16,
   "metadata": {},
   "outputs": [],
   "source": [
    "# the 50 topwords and its frequencies for japan travel and life are combined \n",
    "# together to be used in the venn2_wordcloud for getting relevant size for the words in the plot\n",
    "words = common_words_japantravel + common_words_japanlife\n",
    "\n",
    "frequency=[2622, 1813, 1060, 1010,  973,  853,  795,  581,  581,  574,  571,\n",
    "        571,  566,  558,  551,  550,  518,  492,  488,  485,  474,  470,\n",
    "        445,  444,  440,  432,  409,  404,  393,  368,  359,  355,  354,\n",
    "        352,  349,  347,  345,  344,  337,  337,  328,  323,  317,  317,\n",
    "        303,  300,  299,  296,  283,  275,454, 379, 326, 325, 312, 309, 299, 295, 266, 244, 241, 237, 228,\n",
    "       219, 218, 210, 197, 187, 183, 183, 181, 181, 180, 180, 173, 169,\n",
    "       163, 158, 158, 155, 154, 153, 150, 148, 148, 147, 145, 138, 136,\n",
    "       136, 134, 133, 132, 131, 128, 122, 122, 120, 120, 116]\n"
   ]
  },
  {
   "cell_type": "code",
   "execution_count": 17,
   "metadata": {
    "scrolled": false
   },
   "outputs": [
    {
     "name": "stdout",
     "output_type": "stream",
     "text": [
      "<matplotlib_venn._common.VennDiagram object at 0x000001E010696B00>\n"
     ]
    },
    {
     "data": {
      "text/plain": [
       "<Figure size 1440x1008 with 0 Axes>"
      ]
     },
     "metadata": {},
     "output_type": "display_data"
    },
    {
     "data": {
      "image/png": "[encoded data removed]",
      "text/plain": [
       "<Figure size 432x288 with 2 Axes>"
      ]
     },
     "metadata": {},
     "output_type": "display_data"
    }
   ],
   "source": [
    "# Venn2 word cloud is plotted to visualize the common words\n",
    "plt.figure(figsize = (20,14))\n",
    "venn=venn2_wordcloud([set(common_words_japanlife), set(common_words_japantravel)], set_labels = ('Japan_life', 'Japan_travel'),set_colors= ['r', 'y'],word_to_frequency = dict(zip(words, frequency)))\n",
    "print(venn)\n",
    "plt.savefig('../image/venndiagram')\n"
   ]
  },
  {
   "cell_type": "markdown",
   "metadata": {},
   "source": [
    "From the venn diagram, we can interpret that the Japan travel related posts are longer with more words compared to posts related to japan life as the number of the posts under the individual subreddit is around the same."
   ]
  },
  {
   "cell_type": "markdown",
   "metadata": {},
   "source": [
    "### MODEL 1 - LOGISTICS REGRESSION WITH DOCUMENT TERM MATRIX FROM COUNT VECTORISER"
   ]
  },
  {
   "cell_type": "code",
   "execution_count": 18,
   "metadata": {},
   "outputs": [
    {
     "name": "stderr",
     "output_type": "stream",
     "text": [
      "C:\\Users\\abinl\\Anaconda3\\lib\\site-packages\\sklearn\\linear_model\\logistic.py:432: FutureWarning: Default solver will be changed to 'lbfgs' in 0.22. Specify a solver to silence this warning.\n",
      "  FutureWarning)\n"
     ]
    },
    {
     "data": {
      "text/plain": [
       "0.9956112852664577"
      ]
     },
     "execution_count": 18,
     "metadata": {},
     "output_type": "execute_result"
    }
   ],
   "source": [
    "# fitting using logistic regression\n",
    "lr = LogisticRegression()\n",
    "lr.fit(X_train,y_train)\n",
    "lr.score(X_train,y_train)"
   ]
  },
  {
   "cell_type": "markdown",
   "metadata": {},
   "source": [
    "### The training score is very high and it is 0.995."
   ]
  },
  {
   "cell_type": "code",
   "execution_count": 19,
   "metadata": {},
   "outputs": [],
   "source": [
    "# Predicting with logistics regression\n",
    "pred = lr.predict(X_test)"
   ]
  },
  {
   "cell_type": "code",
   "execution_count": 20,
   "metadata": {},
   "outputs": [],
   "source": [
    "# obtaining confusion matrix\n",
    "cm = confusion_matrix(y_test, pred)"
   ]
  },
  {
   "cell_type": "code",
   "execution_count": 21,
   "metadata": {},
   "outputs": [
    {
     "data": {
      "text/html": [
       "<div>\n",
       "<style scoped>\n",
       "    .dataframe tbody tr th:only-of-type {\n",
       "        vertical-align: middle;\n",
       "    }\n",
       "\n",
       "    .dataframe tbody tr th {\n",
       "        vertical-align: top;\n",
       "    }\n",
       "\n",
       "    .dataframe thead th {\n",
       "        text-align: right;\n",
       "    }\n",
       "</style>\n",
       "<table border=\"1\" class=\"dataframe\">\n",
       "  <thead>\n",
       "    <tr style=\"text-align: right;\">\n",
       "      <th></th>\n",
       "      <th>pred_japan_travel</th>\n",
       "      <th>pred_japan_life</th>\n",
       "    </tr>\n",
       "  </thead>\n",
       "  <tbody>\n",
       "    <tr>\n",
       "      <th>actual_japan_travel</th>\n",
       "      <td>171</td>\n",
       "      <td>20</td>\n",
       "    </tr>\n",
       "    <tr>\n",
       "      <th>actual_japan_life</th>\n",
       "      <td>17</td>\n",
       "      <td>191</td>\n",
       "    </tr>\n",
       "  </tbody>\n",
       "</table>\n",
       "</div>"
      ],
      "text/plain": [
       "                     pred_japan_travel  pred_japan_life\n",
       "actual_japan_travel                171               20\n",
       "actual_japan_life                   17              191"
      ]
     },
     "execution_count": 21,
     "metadata": {},
     "output_type": "execute_result"
    }
   ],
   "source": [
    "# creating confusion matrix dataframe\n",
    "cm_df = pd.DataFrame(cm, columns=['pred_japan_travel', 'pred_japan_life'], index=['actual_japan_travel', 'actual_japan_life'])\n",
    "cm_df"
   ]
  },
  {
   "cell_type": "markdown",
   "metadata": {},
   "source": [
    "##### Based on the confusion matrix for our model1(Logistics regression), \n",
    "##### 171 Japan travel posts are predicted accurately\n",
    "##### 191 Japan life posts are predicted accurately\n",
    "##### 20 Japan travel posts are predicted as Japan life posts \n",
    "##### 17 Japan life posts are predicted as Japan travel posts "
   ]
  },
  {
   "cell_type": "code",
   "execution_count": 22,
   "metadata": {},
   "outputs": [],
   "source": [
    "# ravel the 2-d confusion matrix into 1-d confusion matrix for accessing each of the elements\n",
    "tn, fp, fn, tp = cm.ravel()"
   ]
  },
  {
   "cell_type": "code",
   "execution_count": 23,
   "metadata": {},
   "outputs": [
    {
     "name": "stdout",
     "output_type": "stream",
     "text": [
      "0.9072681704260651\n"
     ]
    }
   ],
   "source": [
    "# calculating accuracy for test data\n",
    "Accuracy = (tp+tn)/(tn+fp+fn+tp)\n",
    "print(Accuracy)"
   ]
  },
  {
   "cell_type": "markdown",
   "metadata": {},
   "source": [
    "The test accuracy is about 9% lower than the training data accuracy. We could see the model overfit for the training data but still the accuracy for testing data is not so bad."
   ]
  },
  {
   "cell_type": "code",
   "execution_count": 24,
   "metadata": {},
   "outputs": [
    {
     "name": "stdout",
     "output_type": "stream",
     "text": [
      "              precision    recall  f1-score   support\n",
      "\n",
      "japan_travel       0.91      0.90      0.90       191\n",
      "  japan_life       0.91      0.92      0.91       208\n",
      "\n",
      "    accuracy                           0.91       399\n",
      "   macro avg       0.91      0.91      0.91       399\n",
      "weighted avg       0.91      0.91      0.91       399\n",
      "\n"
     ]
    }
   ],
   "source": [
    "# printing the classification report.\n",
    "print(classification_report(y_test, pred, target_names=['japan_travel','japan_life']))"
   ]
  },
  {
   "cell_type": "markdown",
   "metadata": {},
   "source": [
    "##### The classification report shows the precision, recall or sensitivity, f1 score (Average of precision and recall) and the supporting number from confusion matrix.\n",
    "##### The precision, recall and f1 score are about the same. They are all about 90%. \n",
    "##### out of 399 post in test data 191 posts are from Japan travel subreddit.\n",
    "##### out of 399 post in test data 208 posts are from Japan travel subreddit."
   ]
  },
  {
   "cell_type": "code",
   "execution_count": 25,
   "metadata": {},
   "outputs": [
    {
     "data": {
      "text/html": [
       "<div>\n",
       "<style scoped>\n",
       "    .dataframe tbody tr th:only-of-type {\n",
       "        vertical-align: middle;\n",
       "    }\n",
       "\n",
       "    .dataframe tbody tr th {\n",
       "        vertical-align: top;\n",
       "    }\n",
       "\n",
       "    .dataframe thead th {\n",
       "        text-align: right;\n",
       "    }\n",
       "</style>\n",
       "<table border=\"1\" class=\"dataframe\">\n",
       "  <thead>\n",
       "    <tr style=\"text-align: right;\">\n",
       "      <th></th>\n",
       "      <th>true_values</th>\n",
       "      <th>pred_probs_japanlife</th>\n",
       "      <th>pred_probs_japantravel</th>\n",
       "    </tr>\n",
       "  </thead>\n",
       "  <tbody>\n",
       "    <tr>\n",
       "      <th>1441</th>\n",
       "      <td>1</td>\n",
       "      <td>0.984295</td>\n",
       "      <td>0.015705</td>\n",
       "    </tr>\n",
       "    <tr>\n",
       "      <th>1419</th>\n",
       "      <td>1</td>\n",
       "      <td>0.997907</td>\n",
       "      <td>0.002093</td>\n",
       "    </tr>\n",
       "    <tr>\n",
       "      <th>718</th>\n",
       "      <td>0</td>\n",
       "      <td>0.091797</td>\n",
       "      <td>0.908203</td>\n",
       "    </tr>\n",
       "    <tr>\n",
       "      <th>33</th>\n",
       "      <td>0</td>\n",
       "      <td>0.000053</td>\n",
       "      <td>0.999947</td>\n",
       "    </tr>\n",
       "    <tr>\n",
       "      <th>492</th>\n",
       "      <td>0</td>\n",
       "      <td>0.017381</td>\n",
       "      <td>0.982619</td>\n",
       "    </tr>\n",
       "  </tbody>\n",
       "</table>\n",
       "</div>"
      ],
      "text/plain": [
       "      true_values  pred_probs_japanlife  pred_probs_japantravel\n",
       "1441            1              0.984295                0.015705\n",
       "1419            1              0.997907                0.002093\n",
       "718             0              0.091797                0.908203\n",
       "33              0              0.000053                0.999947\n",
       "492             0              0.017381                0.982619"
      ]
     },
     "execution_count": 25,
     "metadata": {},
     "output_type": "execute_result"
    }
   ],
   "source": [
    "# Let's create a dataframe called pred_df_log_reg that contains:\n",
    "# 1. The list of true values of our test set.\n",
    "# 2. The list of predicted probabilities for both the subreddit based on our model.\n",
    "\n",
    "pred_proba_logreg_japanlife = [i[1] for i in lr.predict_proba(X_test)]\n",
    "pred_proba_logreg_japantravel = [i[0] for i in lr.predict_proba((X_test))]\n",
    "\n",
    "pred_df_log_reg = pd.DataFrame({'true_values': y_test,\n",
    "                        'pred_probs_japanlife':pred_proba_logreg_japanlife,\n",
    "                         'pred_probs_japantravel':pred_proba_logreg_japantravel})\n",
    "pred_df_log_reg.head()\n",
    "\n",
    "\n"
   ]
  },
  {
   "cell_type": "markdown",
   "metadata": {},
   "source": [
    "### Model 2 multinomial naive bayes "
   ]
  },
  {
   "cell_type": "code",
   "execution_count": 26,
   "metadata": {},
   "outputs": [],
   "source": [
    "# initialising the multinomial naive bayes model\n",
    "nb = MultinomialNB()\n"
   ]
  },
  {
   "cell_type": "code",
   "execution_count": 27,
   "metadata": {},
   "outputs": [],
   "source": [
    "# splitting the data into test and train data\n",
    "X_tr, X_tst, y_tr, y_tst = train_test_split(japan_clean_df['clean_lemma_stem'], japan_clean_df['subreddit'], test_size=0.2,shuffle=True,random_state=48)"
   ]
  },
  {
   "cell_type": "code",
   "execution_count": 28,
   "metadata": {},
   "outputs": [
    {
     "name": "stdout",
     "output_type": "stream",
     "text": [
      "0.903448275862069\n",
      "0.9172932330827067\n",
      "Number of features: 900\n"
     ]
    }
   ],
   "source": [
    "# initialising the TfidfVectorizer\n",
    "tfid=TfidfVectorizer(stop_words='english',\n",
    "                                      sublinear_tf=True,\n",
    "                                      max_df=0.5,\n",
    "                                      max_features=900)\n",
    "# creating pipeline for tfid and multinomialNB. \n",
    "# When we use pipeline, we can vectorize and train model(or any other steps) in single step.\n",
    "model = make_pipeline(tfid,nb)\n",
    "#training the model using .fit()\n",
    "model.fit(X_tr, y_tr)\n",
    "#predictind using test data\n",
    "y_pred = model.predict(X_tst)\n",
    "# Checking the score for train data\n",
    "print (model.score(X_tr, y_tr))\n",
    "# checking accuracy for test data\n",
    "print (accuracy_score(y_tst, y_pred))\n",
    "# checking the number of features used.\n",
    "print (\"Number of features:\", len(model.steps[0][1].get_feature_names()))"
   ]
  },
  {
   "cell_type": "markdown",
   "metadata": {},
   "source": [
    "### The accuracy for the test data is 0.9173 which is even higher than the accuracy for the train data which is 0.9034. So naive bayes model does not overfit to training data. They also work pretty well for the test data."
   ]
  },
  {
   "cell_type": "code",
   "execution_count": 29,
   "metadata": {},
   "outputs": [],
   "source": [
    "# creating confusion matrix for multinomial naive bayes model\n",
    "cm1 = confusion_matrix(y_tst, y_pred)"
   ]
  },
  {
   "cell_type": "code",
   "execution_count": 30,
   "metadata": {},
   "outputs": [
    {
     "data": {
      "text/html": [
       "<div>\n",
       "<style scoped>\n",
       "    .dataframe tbody tr th:only-of-type {\n",
       "        vertical-align: middle;\n",
       "    }\n",
       "\n",
       "    .dataframe tbody tr th {\n",
       "        vertical-align: top;\n",
       "    }\n",
       "\n",
       "    .dataframe thead th {\n",
       "        text-align: right;\n",
       "    }\n",
       "</style>\n",
       "<table border=\"1\" class=\"dataframe\">\n",
       "  <thead>\n",
       "    <tr style=\"text-align: right;\">\n",
       "      <th></th>\n",
       "      <th>pred_japan_travel</th>\n",
       "      <th>pred_japan_life</th>\n",
       "    </tr>\n",
       "  </thead>\n",
       "  <tbody>\n",
       "    <tr>\n",
       "      <th>actual_japan_travel</th>\n",
       "      <td>171</td>\n",
       "      <td>20</td>\n",
       "    </tr>\n",
       "    <tr>\n",
       "      <th>actual_japan_life</th>\n",
       "      <td>13</td>\n",
       "      <td>195</td>\n",
       "    </tr>\n",
       "  </tbody>\n",
       "</table>\n",
       "</div>"
      ],
      "text/plain": [
       "                     pred_japan_travel  pred_japan_life\n",
       "actual_japan_travel                171               20\n",
       "actual_japan_life                   13              195"
      ]
     },
     "execution_count": 30,
     "metadata": {},
     "output_type": "execute_result"
    }
   ],
   "source": [
    "# creating a dataframe for confusion matrix\n",
    "cm1_df = pd.DataFrame(cm1, columns=['pred_japan_travel', 'pred_japan_life'], index=['actual_japan_travel', 'actual_japan_life'])\n",
    "cm1_df"
   ]
  },
  {
   "cell_type": "markdown",
   "metadata": {},
   "source": [
    "##### Based on the confusion matrix for our model2(Model 2 multinomial naive bayes), \n",
    "##### 171 Japan travel posts are predicted accurately\n",
    "##### 195 Japan life posts are predicted accurately\n",
    "##### 20 Japan travel posts are predicted as Japan life posts \n",
    "##### 13 Japan life posts are predicted as Japan travel posts "
   ]
  },
  {
   "cell_type": "code",
   "execution_count": 31,
   "metadata": {},
   "outputs": [
    {
     "name": "stdout",
     "output_type": "stream",
     "text": [
      "              precision    recall  f1-score   support\n",
      "\n",
      "japan_travel       0.93      0.90      0.91       191\n",
      "  japan_life       0.91      0.94      0.92       208\n",
      "\n",
      "    accuracy                           0.92       399\n",
      "   macro avg       0.92      0.92      0.92       399\n",
      "weighted avg       0.92      0.92      0.92       399\n",
      "\n"
     ]
    }
   ],
   "source": [
    "# printing the classification report\n",
    "print(classification_report(y_tst, y_pred, target_names=['japan_travel','japan_life']))"
   ]
  },
  {
   "cell_type": "markdown",
   "metadata": {},
   "source": [
    "##### The classification report shows the precision, recall or sensitivity, f1 score (Average of precision and recall) and the supporting number from confusion matrix.\n",
    "##### The precision is higher for japan_travel compared to japan_life.\n",
    "##### The sensitivity/recall is higher for japan_life compared to japan_travel.\n",
    "##### out of 399 post in test data 191 posts are from Japan travel subreddit.\n",
    "##### out of 399 post in test data 208 posts are from Japan travel subreddit."
   ]
  },
  {
   "cell_type": "code",
   "execution_count": 32,
   "metadata": {},
   "outputs": [
    {
     "name": "stdout",
     "output_type": "stream",
     "text": [
      "Top Words used in Japantravel Subreddit-NB model: ['day', 'kyoto', 'trip', 'osaka', 'japan', 'travel', 'time', 'plan', 'thank', 'visit', 'stay', 'want', 'night', 'place', 'like', 'hotel', 'look', 'itinerari', 'train', 'know', 'area', 'check', 'anyon', 'tri', 'th', 'recommend', 'hakon', 'ticket', 'hi', 'park', 'pa', 'week', 'pm', 'museum', 'help', 'suggest', 'station', 'amp', 'templ', 'shinjuku', 'book', 'think', 'citi', 'arriv', 'shrine', 'novemb', 'spend', 'explor', 'shop']\n",
      "['day', 'kyoto', 'trip', 'osaka', 'japan', 'travel', 'time', 'plan', 'thank', 'visit', 'stay', 'want', 'night', 'place', 'like', 'hotel', 'look', 'itinerari', 'train', 'know', 'area', 'check', 'anyon', 'tri', 'th', 'recommend', 'hakon', 'ticket', 'hi', 'park', 'pa', 'week', 'pm', 'museum', 'help', 'suggest', 'station', 'amp', 'templ', 'shinjuku', 'book', 'think', 'citi', 'arriv', 'shrine', 'novemb', 'spend', 'explor', 'shop']\n",
      "Top Words used in Japanlife Subreddit-NB model: ['japan', 'know', 'work', 'like', 'japanes', 'use', 'year', 'live', 'thread', 'need', 'time', 'month', 'compani', 'thank', 'look', 'want', 'good', 'pay', 'visa', 'tri', 'job', 'help', 'ask', 'someth', 'new', 'question', 'english', 'anyth', 'tokyo', 'thing', 'week', 'realli', 'got', 'experi', 'http', 'card', 'peopl', 'pleas', 'post', 'say', 'home', 'wonder', 'bank', 'think', 'make', 'buy', 'place', 'sinc', 'come']\n",
      "['japan', 'know', 'work', 'like', 'japanes', 'use', 'year', 'live', 'thread', 'need', 'time', 'month', 'compani', 'thank', 'look', 'want', 'good', 'pay', 'visa', 'tri', 'job', 'help', 'ask', 'someth', 'new', 'question', 'english', 'anyth', 'tokyo', 'thing', 'week', 'realli', 'got', 'experi', 'http', 'card', 'peopl', 'pleas', 'post', 'say', 'home', 'wonder', 'bank', 'think', 'make', 'buy', 'place', 'sinc', 'come']\n"
     ]
    }
   ],
   "source": [
    "# #prob for positive class\n",
    "japantravel_class_prob_sorted = nb.feature_log_prob_[0, :].argsort()\n",
    "# #prob for negative class\n",
    "japanlife_class_prob_sorted = nb.feature_log_prob_[1, :].argsort()\n",
    "# #getting the top features \n",
    "japantravel_top_features = np.take(tfid.get_feature_names(), japantravel_class_prob_sorted)\n",
    "japanlife_top_features = np.take(tfid.get_feature_names(), japanlife_class_prob_sorted)\n",
    "list1=[]\n",
    "for i in reversed(japantravel_top_features[-50:-1]):\n",
    "    list1.append(i)\n",
    "list2=[]    \n",
    "for j in reversed(japanlife_top_features[-50:-1]):\n",
    "    list2.append(j)\n",
    "print(\"Top Words used in Japantravel Subreddit-NB model:\",list1)\n",
    "print(list1)\n",
    "print(\"Top Words used in Japanlife Subreddit-NB model:\",list2)\n",
    "print(list2)"
   ]
  },
  {
   "cell_type": "code",
   "execution_count": 33,
   "metadata": {},
   "outputs": [
    {
     "data": {
      "image/png": "[encoded data removed]",
      "text/plain": [
       "<Figure size 432x288 with 1 Axes>"
      ]
     },
     "metadata": {
      "needs_background": "light"
     },
     "output_type": "display_data"
    }
   ],
   "source": [
    "# word cloud is generated for top words used in japan travel subreddit NB model\n",
    "wordcloud3 = WordCloud(width = 4000, height = 4000,  colormap = \"Dark2\" \n",
    "                ).generate(str(list1))\n",
    "plt.imshow(wordcloud3)\n",
    "plt.title(\"Top Words used in Japantravel Subreddit-NB model\")\n",
    "plt.axis(\"off\")\n",
    "plt.savefig('../image/NBJapanTravelTopWords')\n",
    "plt.show()"
   ]
  },
  {
   "cell_type": "code",
   "execution_count": 34,
   "metadata": {},
   "outputs": [
    {
     "data": {
      "image/png": "[encoded data removed]",
      "text/plain": [
       "<Figure size 432x288 with 1 Axes>"
      ]
     },
     "metadata": {
      "needs_background": "light"
     },
     "output_type": "display_data"
    }
   ],
   "source": [
    "# word cloud is generated for top words used in japan life subreddit \n",
    "wordcloud4 = WordCloud(width = 4000, height = 4000,  colormap = \"Dark2\" \n",
    "                ).generate(str(list2))\n",
    "plt.imshow(wordcloud4)\n",
    "plt.title(\"Top Words used in Japanlife Subreddit-NB model\")\n",
    "plt.axis(\"off\")\n",
    "plt.savefig('../image/NBJapanlifeTopWords')\n",
    "plt.show()"
   ]
  },
  {
   "cell_type": "markdown",
   "metadata": {},
   "source": [
    "##### The topwords used in NB model and Logistic regression are quite similar."
   ]
  },
  {
   "cell_type": "markdown",
   "metadata": {},
   "source": [
    "### MODEL EVALUATION"
   ]
  },
  {
   "cell_type": "code",
   "execution_count": 35,
   "metadata": {},
   "outputs": [
    {
     "data": {
      "text/html": [
       "<div>\n",
       "<style scoped>\n",
       "    .dataframe tbody tr th:only-of-type {\n",
       "        vertical-align: middle;\n",
       "    }\n",
       "\n",
       "    .dataframe tbody tr th {\n",
       "        vertical-align: top;\n",
       "    }\n",
       "\n",
       "    .dataframe thead th {\n",
       "        text-align: right;\n",
       "    }\n",
       "</style>\n",
       "<table border=\"1\" class=\"dataframe\">\n",
       "  <thead>\n",
       "    <tr style=\"text-align: right;\">\n",
       "      <th></th>\n",
       "      <th>true_values</th>\n",
       "      <th>pred_probs_japanlife</th>\n",
       "      <th>pred_probs_japantravel</th>\n",
       "    </tr>\n",
       "  </thead>\n",
       "  <tbody>\n",
       "    <tr>\n",
       "      <th>1441</th>\n",
       "      <td>1</td>\n",
       "      <td>0.797971</td>\n",
       "      <td>0.202029</td>\n",
       "    </tr>\n",
       "    <tr>\n",
       "      <th>1419</th>\n",
       "      <td>1</td>\n",
       "      <td>0.977606</td>\n",
       "      <td>0.022394</td>\n",
       "    </tr>\n",
       "    <tr>\n",
       "      <th>718</th>\n",
       "      <td>0</td>\n",
       "      <td>0.430046</td>\n",
       "      <td>0.569954</td>\n",
       "    </tr>\n",
       "    <tr>\n",
       "      <th>33</th>\n",
       "      <td>0</td>\n",
       "      <td>0.042185</td>\n",
       "      <td>0.957815</td>\n",
       "    </tr>\n",
       "    <tr>\n",
       "      <th>492</th>\n",
       "      <td>0</td>\n",
       "      <td>0.124750</td>\n",
       "      <td>0.875250</td>\n",
       "    </tr>\n",
       "  </tbody>\n",
       "</table>\n",
       "</div>"
      ],
      "text/plain": [
       "      true_values  pred_probs_japanlife  pred_probs_japantravel\n",
       "1441            1              0.797971                0.202029\n",
       "1419            1              0.977606                0.022394\n",
       "718             0              0.430046                0.569954\n",
       "33              0              0.042185                0.957815\n",
       "492             0              0.124750                0.875250"
      ]
     },
     "execution_count": 35,
     "metadata": {},
     "output_type": "execute_result"
    }
   ],
   "source": [
    "# Let's create a dataframe called pred_df that contains:\n",
    "# 1. The list of true values of our test set.\n",
    "# 2. The list of predicted probabilities based on our model.\n",
    "\n",
    "pred_proba_mnb_japanlife = [i[1] for i in model.predict_proba((X_tst))]\n",
    "pred_proba_mnb_japantravel = [i[0] for i in model.predict_proba((X_tst))]\n",
    "\n",
    "pred_df_mnb = pd.DataFrame({'true_values': y_tst,\n",
    "                        'pred_probs_japanlife':pred_proba_mnb_japanlife,\n",
    "                         'pred_probs_japantravel':pred_proba_mnb_japantravel  })\n",
    "pred_df_mnb.head()"
   ]
  },
  {
   "cell_type": "code",
   "execution_count": 36,
   "metadata": {},
   "outputs": [
    {
     "data": {
      "image/png": "[encoded data removed]",
      "text/plain": [
       "<Figure size 720x504 with 1 Axes>"
      ]
     },
     "metadata": {
      "needs_background": "light"
     },
     "output_type": "display_data"
    }
   ],
   "source": [
    "# Create figure.\n",
    "plt.figure(figsize = (10,7))\n",
    "\n",
    "# Create threshold values. (Dashed red line in image.)\n",
    "thresholds = np.linspace(0, 1, 200)\n",
    "\n",
    "# Define function to calculate sensitivity. (True positive rate.)\n",
    "def TPR(df, true_col, pred_prob_col, threshold):\n",
    "    true_positive = df[(df[true_col] == 1) & (df[pred_prob_col] >= threshold)].shape[0]\n",
    "    false_negative = df[(df[true_col] == 1) & (df[pred_prob_col] < threshold)].shape[0]\n",
    "    return true_positive / (true_positive + false_negative)\n",
    "    \n",
    "\n",
    "# Define function to calculate 1 - specificity. (False positive rate.)\n",
    "def FPR(df, true_col, pred_prob_col, threshold):\n",
    "    true_negative = df[(df[true_col] == 0) & (df[pred_prob_col] <= threshold)].shape[0]\n",
    "    false_positive = df[(df[true_col] == 0) & (df[pred_prob_col] > threshold)].shape[0]\n",
    "    return 1 - (true_negative / (true_negative + false_positive))\n",
    "    \n",
    "# Calculate sensitivity & 1-specificity for each threshold between 0 and 1.\n",
    "tpr_values_mnb = [TPR(pred_df_mnb, 'true_values', 'pred_probs_japanlife', prob) for prob in thresholds]\n",
    "fpr_values_mnb = [FPR(pred_df_mnb, 'true_values', 'pred_probs_japanlife', prob) for prob in thresholds]\n",
    "tpr_values_log_reg = [TPR(pred_df_log_reg, 'true_values', 'pred_probs_japanlife', prob) for prob in thresholds]\n",
    "fpr_values_log_reg = [FPR(pred_df_log_reg, 'true_values', 'pred_probs_japanlife', prob) for prob in thresholds]\n",
    "\n",
    "# Plot ROC curve.\n",
    "plt.plot(fpr_values_mnb, # False Positive Rate on X-axis\n",
    "         tpr_values_mnb, # True Positive Rate on Y-axis\n",
    "         label='ROC Curve with Mnb for Japan life')\n",
    "plt.plot(fpr_values_log_reg, # False Positive Rate on X-axis\n",
    "         tpr_values_log_reg, # True Positive Rate on Y-axis\n",
    "         label='ROC Curve with log reg for Japan life')\n",
    "\n",
    "# Plot baseline. (Perfect overlap between the two populations.)\n",
    "plt.plot(np.linspace(0, 1, 200),\n",
    "         np.linspace(0, 1, 200),\n",
    "         label='baseline',\n",
    "         linestyle='--')\n",
    "\n",
    "# Label axes.\n",
    "plt.title('Receiver Operating Characteristic Curve', fontsize=22)\n",
    "plt.ylabel('Sensitivity', fontsize=18)\n",
    "plt.xlabel('1 - Specificity', fontsize=18)\n",
    "\n",
    "# Create legend.\n",
    "plt.legend(fontsize=16);\n",
    "plt.savefig('../image/JapanlifeROC')"
   ]
  },
  {
   "cell_type": "markdown",
   "metadata": {},
   "source": [
    "##### From the above ROC curve for Japan life posts, We could infer that Multinomial NB perform slightly better than the Logistics regression "
   ]
  },
  {
   "cell_type": "code",
   "execution_count": 37,
   "metadata": {},
   "outputs": [
    {
     "data": {
      "image/png": "[encoded data removed]",
      "text/plain": [
       "<Figure size 720x504 with 1 Axes>"
      ]
     },
     "metadata": {
      "needs_background": "light"
     },
     "output_type": "display_data"
    }
   ],
   "source": [
    "# Create figure.\n",
    "plt.figure(figsize = (10,7))\n",
    "\n",
    "# Create threshold values. (Dashed red line in image.)\n",
    "thresholds = np.linspace(0, 1, 200)\n",
    "\n",
    "# Define function to calculate sensitivity. (True positive rate.)\n",
    "def TPR(df, true_col, pred_prob_col, threshold):\n",
    "    true_positive = df[(df[true_col] == 0) & (df[pred_prob_col] >= threshold)].shape[0]\n",
    "    false_negative = df[(df[true_col] == 0) & (df[pred_prob_col] < threshold)].shape[0]\n",
    "    return true_positive / (true_positive + false_negative)\n",
    "    \n",
    "\n",
    "# Define function to calculate 1 - specificity. (False positive rate.)\n",
    "def FPR(df, true_col, pred_prob_col, threshold):\n",
    "    true_negative = df[(df[true_col] == 1) & (df[pred_prob_col] <= threshold)].shape[0]\n",
    "    false_positive = df[(df[true_col] == 1) & (df[pred_prob_col] > threshold)].shape[0]\n",
    "    return 1 - (true_negative / (true_negative + false_positive))\n",
    "    \n",
    "# Calculate sensitivity & 1-specificity for each threshold between 0 and 1.\n",
    "tpr_values_mnb = [TPR(pred_df_mnb, 'true_values', 'pred_probs_japantravel', prob) for prob in thresholds]\n",
    "fpr_values_mnb = [FPR(pred_df_mnb, 'true_values', 'pred_probs_japantravel', prob) for prob in thresholds]\n",
    "tpr_values_log_reg = [TPR(pred_df_log_reg, 'true_values', 'pred_probs_japantravel', prob) for prob in thresholds]\n",
    "fpr_values_log_reg = [FPR(pred_df_log_reg, 'true_values', 'pred_probs_japantravel', prob) for prob in thresholds]\n",
    "\n",
    "# Plot ROC curve.\n",
    "plt.plot(fpr_values_mnb, # False Positive Rate on X-axis\n",
    "         tpr_values_mnb, # True Positive Rate on Y-axis\n",
    "         label='ROC Curve with Mnb for Japan travel')\n",
    "plt.plot(fpr_values_log_reg, # False Positive Rate on X-axis\n",
    "         tpr_values_log_reg, # True Positive Rate on Y-axis\n",
    "         label='ROC Curve with log reg for Japan travel')\n",
    "\n",
    "# Plot baseline. (Perfect overlap between the two populations.)\n",
    "plt.plot(np.linspace(0, 1, 200),\n",
    "         np.linspace(0, 1, 200),\n",
    "         label='baseline',\n",
    "         linestyle='--')\n",
    "\n",
    "# Label axes.\n",
    "plt.title('Receiver Operating Characteristic Curve', fontsize=22)\n",
    "plt.ylabel('Sensitivity', fontsize=18)\n",
    "plt.xlabel('1 - Specificity', fontsize=18)\n",
    "\n",
    "# Create legend.\n",
    "plt.legend(fontsize=16);\n",
    "plt.savefig('../image/JapantravelROC')"
   ]
  },
  {
   "cell_type": "markdown",
   "metadata": {},
   "source": [
    "##### From the above ROC curve for Japan travel posts, We could infer that Multinomial NB perform slightly better than the Logistics regression same as for Japan life posts."
   ]
  },
  {
   "cell_type": "markdown",
   "metadata": {},
   "source": [
    "### Conclusion and Recommendation:\n",
    "\n",
    "To classify the posts from japan travel and japan life subreddit, We have used 2 models. One is Logistics regression and the other is Multinomial neigh bayes. Accuracy calculated from test data for both the model are quite similar and it is just more than 90%. But still I choose Multinomial neigh bayes to be the better model as the accuracy on test data is even higher than on the training data. While, the accuracy on test data is 9 percent lower than on the training data. This shows the logistic regression model overfits on the training data.\n",
    "\n",
    "The Multinomial neigh bayes model has accuracy of 91.72%. Japan life and Japan travel have some top common words like Japan, Tokyo etc. The model maynot work well on the common topwords between both subreddit. \n",
    "\n",
    "Also to avoid posting under a wrong subreddit and to get customer satisfaction reddit could create a category countries and put the political, life based posting there and use the travel category for travel related subreddit.\n"
   ]
  }
 ],
 "metadata": {
  "kernelspec": {
   "display_name": "Python 3",
   "language": "python",
   "name": "python3"
  },
  "language_info": {
   "codemirror_mode": {
    "name": "ipython",
    "version": 3
   },
   "file_extension": ".py",
   "mimetype": "text/x-python",
   "name": "python",
   "nbconvert_exporter": "python",
   "pygments_lexer": "ipython3",
   "version": "3.7.3"
  }
 },
 "nbformat": 4,
 "nbformat_minor": 2
}
